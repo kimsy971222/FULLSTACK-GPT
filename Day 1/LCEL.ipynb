{
 "cells": [
  {
   "cell_type": "code",
   "execution_count": 7,
   "metadata": {},
   "outputs": [
    {
     "data": {
      "text/plain": [
       "(['normal', 'fire', 'water', 'grass', 'electric'],\n",
       " ['pikachu', 'charmander', 'bulbasaur', 'squirtle', 'jigglypuff'])"
      ]
     },
     "execution_count": 7,
     "metadata": {},
     "output_type": "execute_result"
    }
   ],
   "source": [
    "from langchain.chat_models import ChatOpenAI\n",
    "from langchain.prompts import PromptTemplate, ChatPromptTemplate\n",
    "from langchain.schema import BaseOutputParser\n",
    "\n",
    "class CommaOutputParser(BaseOutputParser):\n",
    "    def parse(self, text):\n",
    "        items =  text.strip().split(\",\")\n",
    "        return list(map(str.strip, items))\n",
    "\n",
    "chat = ChatOpenAI(temperature=0.1)\n",
    "\n",
    "template = ChatPromptTemplate.from_messages([\n",
    "  (\"system\", \"You are a list generating machine. Everthing you are asked will be anwered with a comma seperated list of {max_items} in lowercase. Do NOT replay with anything else.\"),\n",
    "  (\"human\",\"{question}\")\n",
    "])\n",
    "\n",
    "\n",
    "chain = template | chat | CommaOutputParser()\n",
    "\n",
    "answer1 = chain.invoke({\n",
    "  \"max_items\":5, \n",
    "  \"question\":\"What are the pokemon types?\"\n",
    "})\n",
    "\n",
    "answer2 = chain.invoke({\n",
    "  \"max_items\":5, \n",
    "  \"question\":\"What are the pokemons?\"\n",
    "})\n",
    "\n",
    "answer1, answer2"
   ]
  }
 ],
 "metadata": {
  "kernelspec": {
   "display_name": "env",
   "language": "python",
   "name": "python3"
  },
  "language_info": {
   "codemirror_mode": {
    "name": "ipython",
    "version": 3
   },
   "file_extension": ".py",
   "mimetype": "text/x-python",
   "name": "python",
   "nbconvert_exporter": "python",
   "pygments_lexer": "ipython3",
   "version": "3.11.9"
  }
 },
 "nbformat": 4,
 "nbformat_minor": 2
}
