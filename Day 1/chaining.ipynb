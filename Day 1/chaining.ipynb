{
 "cells": [
  {
   "cell_type": "code",
   "execution_count": 1,
   "metadata": {},
   "outputs": [],
   "source": [
    "from langchain.chat_models import ChatOpenAI\n",
    "from langchain.prompts import ChatPromptTemplate\n",
    "from langchain.callbacks import StreamingStdOutCallbackHandler\n",
    "\n",
    "chat = ChatOpenAI(\n",
    "  temperature= 0.1,\n",
    "  streaming=True,\n",
    "  callbacks=[StreamingStdOutCallbackHandler()],\n",
    ")\n",
    "\n",
    "chef_prompt = ChatPromptTemplate.from_messages([\n",
    "  (\"system\",\"You are a world-class international chef. You create easy to follow recipies for any type of cuisine with easy to find ingredients.\"),\n",
    "  (\"human\",\"I want to cook {cuisine} food.\")\n",
    "])\n",
    "\n",
    "chef_chain = chef_prompt | chat"
   ]
  },
  {
   "cell_type": "code",
   "execution_count": 12,
   "metadata": {},
   "outputs": [
    {
     "name": "stdout",
     "output_type": "stream",
     "text": [
      "Great choice! How about making some delicious Bibimbap? It's a popular Korean dish that consists of mixed rice with vegetables, meat, and a spicy sauce. Here's a simple recipe for you to try at home:\n",
      "\n",
      "Ingredients:\n",
      "- 2 cups cooked white rice\n",
      "- 1 carrot, julienned\n",
      "- 1 zucchini, julienned\n",
      "- 1 cup bean sprouts\n",
      "- 1 cup spinach\n",
      "- 200g beef (you can also use chicken or tofu as a substitute)\n",
      "- 2 cloves garlic, minced\n",
      "- 2 tbsp soy sauce\n",
      "- 1 tbsp sesame oil\n",
      "- 1 tbsp vegetable oil\n",
      "- 4 eggs\n",
      "- Kimchi (optional)\n",
      "- Gochujang (Korean red chili paste)\n",
      "\n",
      "Instructions:\n",
      "1. Marinate the beef: In a bowl, mix the beef with minced garlic, soy sauce, and sesame oil. Let it marinate for at least 30 minutes.\n",
      "2. Cook the rice according to package instructions and set aside.\n",
      "3. In a pan, heat vegetable oil over medium heat. Stir-fry the marinated beef until cooked through. Set aside.\n",
      "4. In the same pan, stir-fry the carrot and zucchini until slightly softened. Set aside.\n",
      "5. Blanch the bean sprouts and spinach in boiling water for a few minutes. Drain and squeeze out excess water.\n",
      "6. In a separate pan, fry the eggs sunny side up or as desired.\n",
      "7. To assemble the Bibimbap, divide the rice into bowls. Arrange the cooked beef, vegetables, and fried egg on top of the rice.\n",
      "8. Serve with kimchi on the side and a dollop of Gochujang for extra spice.\n",
      "9. Mix everything together before eating to enjoy the flavors combined.\n",
      "\n",
      "Enjoy your homemade Bibimbap! Feel free to customize the ingredients to your liking and make it your own. Let me know if you need more Korean recipes or cooking tips.For a vegetarian version of Bibimbap, you can easily substitute the beef with tofu or tempeh. Here's how you can prepare the tofu as a substitute:\n",
      "\n",
      "Ingredients:\n",
      "- 200g firm tofu, pressed and cubed\n",
      "- 2 cloves garlic, minced\n",
      "- 2 tbsp soy sauce\n",
      "- 1 tbsp sesame oil\n",
      "- 1 tbsp vegetable oil\n",
      "\n",
      "Instructions:\n",
      "1. Press the tofu: Place the block of tofu on a plate lined with paper towels. Put another layer of paper towels on top of the tofu and place a heavy object (like a cast-iron skillet) on top. Let it press for about 15-30 minutes to remove excess water.\n",
      "2. Cut the tofu into small cubes.\n",
      "3. In a bowl, mix the cubed tofu with minced garlic, soy sauce, and sesame oil. Let it marinate for at least 30 minutes.\n",
      "4. In a pan, heat vegetable oil over medium heat. Stir-fry the marinated tofu until golden brown and slightly crispy. Set aside.\n",
      "\n",
      "Follow the rest of the recipe as it is, using the tofu instead of beef. This vegetarian Bibimbap will still be packed with flavor and protein, making it a delicious and satisfying meal. Enjoy your meat-free version of this Korean classic!"
     ]
    },
    {
     "data": {
      "text/plain": [
       "\"For a vegetarian version of Bibimbap, you can easily substitute the beef with tofu or tempeh. Here's how you can prepare the tofu as a substitute:\\n\\nIngredients:\\n- 200g firm tofu, pressed and cubed\\n- 2 cloves garlic, minced\\n- 2 tbsp soy sauce\\n- 1 tbsp sesame oil\\n- 1 tbsp vegetable oil\\n\\nInstructions:\\n1. Press the tofu: Place the block of tofu on a plate lined with paper towels. Put another layer of paper towels on top of the tofu and place a heavy object (like a cast-iron skillet) on top. Let it press for about 15-30 minutes to remove excess water.\\n2. Cut the tofu into small cubes.\\n3. In a bowl, mix the cubed tofu with minced garlic, soy sauce, and sesame oil. Let it marinate for at least 30 minutes.\\n4. In a pan, heat vegetable oil over medium heat. Stir-fry the marinated tofu until golden brown and slightly crispy. Set aside.\\n\\nFollow the rest of the recipe as it is, using the tofu instead of beef. This vegetarian Bibimbap will still be packed with flavor and protein, making it a delicious and satisfying meal. Enjoy your meat-free version of this Korean classic!\""
      ]
     },
     "execution_count": 12,
     "metadata": {},
     "output_type": "execute_result"
    }
   ],
   "source": [
    "veg_chef_prompt = ChatPromptTemplate.from_messages([\n",
    "  (\"system\", \"You are a vegetarian chef specialized on making traditional recipies vegetarian. You find alternative ingredients and explain their preparation. You don't radically modify the recipe. If there is no alternative for a food just say you don't know how to replace it.\"),\n",
    "  (\"human\", \"{recipe}\")\n",
    "])\n",
    "\n",
    "veg_chain = veg_chef_prompt | chat\n",
    "\n",
    "final_chain = {\"recipe\":chef_chain} | veg_chain\n",
    "\n",
    "result = final_chain.invoke({\n",
    "  \"cuisine\": \"korean\"\n",
    "})\n",
    "\n",
    "result.content"
   ]
  }
 ],
 "metadata": {
  "kernelspec": {
   "display_name": "env",
   "language": "python",
   "name": "python3"
  },
  "language_info": {
   "codemirror_mode": {
    "name": "ipython",
    "version": 3
   },
   "file_extension": ".py",
   "mimetype": "text/x-python",
   "name": "python",
   "nbconvert_exporter": "python",
   "pygments_lexer": "ipython3",
   "version": "3.11.9"
  }
 },
 "nbformat": 4,
 "nbformat_minor": 2
}
